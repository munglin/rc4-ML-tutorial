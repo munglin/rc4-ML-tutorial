{
 "cells": [
  {
   "cell_type": "code",
   "execution_count": 1,
   "metadata": {},
   "outputs": [],
   "source": [
    "import numpy as np\n",
    "import pandas as pd\n",
    "import matplotlib.pyplot as plt"
   ]
  },
  {
   "cell_type": "markdown",
   "metadata": {},
   "source": [
    "### 1. Import the MNIST Dataset"
   ]
  },
  {
   "cell_type": "code",
   "execution_count": 2,
   "metadata": {},
   "outputs": [
    {
     "name": "stderr",
     "output_type": "stream",
     "text": [
      "C:\\Users\\Ming\\Anaconda3\\lib\\site-packages\\h5py\\__init__.py:36: FutureWarning: Conversion of the second argument of issubdtype from `float` to `np.floating` is deprecated. In future, it will be treated as `np.float64 == np.dtype(float).type`.\n",
      "  from ._conv import register_converters as _register_converters\n",
      "Using TensorFlow backend.\n",
      "C:\\Users\\Ming\\Anaconda3\\lib\\site-packages\\tensorflow\\python\\framework\\dtypes.py:523: FutureWarning: Passing (type, 1) or '1type' as a synonym of type is deprecated; in a future version of numpy, it will be understood as (type, (1,)) / '(1,)type'.\n",
      "  _np_qint8 = np.dtype([(\"qint8\", np.int8, 1)])\n",
      "C:\\Users\\Ming\\Anaconda3\\lib\\site-packages\\tensorflow\\python\\framework\\dtypes.py:524: FutureWarning: Passing (type, 1) or '1type' as a synonym of type is deprecated; in a future version of numpy, it will be understood as (type, (1,)) / '(1,)type'.\n",
      "  _np_quint8 = np.dtype([(\"quint8\", np.uint8, 1)])\n",
      "C:\\Users\\Ming\\Anaconda3\\lib\\site-packages\\tensorflow\\python\\framework\\dtypes.py:525: FutureWarning: Passing (type, 1) or '1type' as a synonym of type is deprecated; in a future version of numpy, it will be understood as (type, (1,)) / '(1,)type'.\n",
      "  _np_qint16 = np.dtype([(\"qint16\", np.int16, 1)])\n",
      "C:\\Users\\Ming\\Anaconda3\\lib\\site-packages\\tensorflow\\python\\framework\\dtypes.py:526: FutureWarning: Passing (type, 1) or '1type' as a synonym of type is deprecated; in a future version of numpy, it will be understood as (type, (1,)) / '(1,)type'.\n",
      "  _np_quint16 = np.dtype([(\"quint16\", np.uint16, 1)])\n",
      "C:\\Users\\Ming\\Anaconda3\\lib\\site-packages\\tensorflow\\python\\framework\\dtypes.py:527: FutureWarning: Passing (type, 1) or '1type' as a synonym of type is deprecated; in a future version of numpy, it will be understood as (type, (1,)) / '(1,)type'.\n",
      "  _np_qint32 = np.dtype([(\"qint32\", np.int32, 1)])\n",
      "C:\\Users\\Ming\\Anaconda3\\lib\\site-packages\\tensorflow\\python\\framework\\dtypes.py:532: FutureWarning: Passing (type, 1) or '1type' as a synonym of type is deprecated; in a future version of numpy, it will be understood as (type, (1,)) / '(1,)type'.\n",
      "  np_resource = np.dtype([(\"resource\", np.ubyte, 1)])\n"
     ]
    }
   ],
   "source": [
    "from keras.datasets import mnist\n",
    "(Xtrain, Ytrain), (Xtest, Ytest) = mnist.load_data()"
   ]
  },
  {
   "cell_type": "code",
   "execution_count": 3,
   "metadata": {},
   "outputs": [
    {
     "name": "stdout",
     "output_type": "stream",
     "text": [
      "(60000, 28, 28)\n",
      "Training Set: 60000 images of 28 x 28 pixels each\n"
     ]
    }
   ],
   "source": [
    "print(Xtrain.shape)\n",
    "print(\"Training Set: %s images of %s x %s pixels each\" %(Xtrain.shape[0],Xtrain.shape[1],Xtrain.shape[2]))"
   ]
  },
  {
   "cell_type": "code",
   "execution_count": 4,
   "metadata": {},
   "outputs": [
    {
     "name": "stdout",
     "output_type": "stream",
     "text": [
      "(10000, 28, 28)\n",
      "Training Set: 10000 images of 28 x 28 pixels each\n"
     ]
    }
   ],
   "source": [
    "print(Xtest.shape)\n",
    "print(\"Training Set: %s images of %s x %s pixels each\" %(Xtest.shape[0],Xtest.shape[1],Xtest.shape[2]))"
   ]
  },
  {
   "cell_type": "markdown",
   "metadata": {},
   "source": [
    "#### Attempt to display some images in the dataset"
   ]
  },
  {
   "cell_type": "markdown",
   "metadata": {},
   "source": [
    "#### Training Set"
   ]
  },
  {
   "cell_type": "code",
   "execution_count": 5,
   "metadata": {},
   "outputs": [
    {
     "data": {
      "image/png": "[encoded data removed]",
      "text/plain": [
       "<Figure size 432x288 with 4 Axes>"
      ]
     },
     "metadata": {
      "needs_background": "light"
     },
     "output_type": "display_data"
    }
   ],
   "source": [
    "for i in range(4):\n",
    "    plt.subplot(221 + i)\n",
    "    plt.imshow(Xtrain[i], cmap=plt.get_cmap('gray'))\n",
    "    plt.axis('off')\n",
    "    plt.title(\"Ground Truth: \" + str(Ytrain[i]) )\n",
    "plt.show()"
   ]
  },
  {
   "cell_type": "markdown",
   "metadata": {},
   "source": [
    "#### Test Set"
   ]
  },
  {
   "cell_type": "code",
   "execution_count": 6,
   "metadata": {},
   "outputs": [
    {
     "data": {
      "image/png": "[encoded data removed]",
      "text/plain": [
       "<Figure size 432x288 with 4 Axes>"
      ]
     },
     "metadata": {
      "needs_background": "light"
     },
     "output_type": "display_data"
    }
   ],
   "source": [
    "for i in range(4):\n",
    "    plt.subplot(221 + i)\n",
    "    plt.imshow(Xtest[i], cmap=plt.get_cmap('gray'))\n",
    "    plt.axis('off')\n",
    "    plt.title(\"Ground Truth: \" + str(Ytest[i]) )\n",
    "plt.show()    "
   ]
  },
  {
   "cell_type": "markdown",
   "metadata": {},
   "source": [
    "#### Preprocessing"
   ]
  },
  {
   "cell_type": "code",
   "execution_count": 8,
   "metadata": {},
   "outputs": [],
   "source": [
    "from sklearn.model_selection import cross_val_score, StratifiedKFold\n",
    "from sklearn import preprocessing\n",
    "from sklearn.metrics import accuracy_score, f1_score, roc_auc_score\n",
    "from sklearn.model_selection import RandomizedSearchCV\n",
    "from sklearn.model_selection import cross_val_score, KFold"
   ]
  },
  {
   "cell_type": "code",
   "execution_count": 15,
   "metadata": {},
   "outputs": [],
   "source": [
    "Xtrain_reshape = Xtrain.reshape(Xtrain.shape[0],-1)\n",
    "Xtest_reshape = Xtest.reshape(Xtest.shape[0],-1)\n",
    "\n",
    "scaler = preprocessing.MinMaxScaler()\n",
    "scaler.fit(Xtrain_reshape)\n",
    "Xtrain_reshape = scaler.transform(Xtrain_reshape)\n",
    "Xtest_reshape = scaler.transform(Xtest_reshape)"
   ]
  },
  {
   "cell_type": "markdown",
   "metadata": {},
   "source": [
    "### A. Building different models for the same problem"
   ]
  },
  {
   "cell_type": "markdown",
   "metadata": {},
   "source": [
    "### <font color=red>Takeaway 1 <br> <br> Using different models for the same problem: Logistic Regression, Random Forest, MLP, CNNs</font>"
   ]
  },
  {
   "cell_type": "markdown",
   "metadata": {},
   "source": [
    "#### 1. Logistic Regression (Classifier)"
   ]
  },
  {
   "cell_type": "code",
   "execution_count": 20,
   "metadata": {},
   "outputs": [
    {
     "name": "stderr",
     "output_type": "stream",
     "text": [
      "C:\\Users\\Ming\\Anaconda3\\lib\\site-packages\\sklearn\\linear_model\\logistic.py:432: FutureWarning: Default solver will be changed to 'lbfgs' in 0.22. Specify a solver to silence this warning.\n",
      "  FutureWarning)\n",
      "C:\\Users\\Ming\\Anaconda3\\lib\\site-packages\\sklearn\\linear_model\\logistic.py:469: FutureWarning: Default multi_class will be changed to 'auto' in 0.22. Specify the multi_class option to silence this warning.\n",
      "  \"this warning.\", FutureWarning)\n"
     ]
    },
    {
     "name": "stdout",
     "output_type": "stream",
     "text": [
      "[LibLinear]Training Accuracy: 0.94025\n",
      "Test Accuracy: 0.9112\n"
     ]
    }
   ],
   "source": [
    "from sklearn.linear_model import LogisticRegression\n",
    "LR = LogisticRegression(verbose=2)\n",
    "LR.fit(Xtrain_reshape[:10000,:],Ytrain[:10000])\n",
    "#LR.fit(Xtrain_reshape,Ytrain)\n",
    "print(\"Training Accuracy: \" + str(accuracy_score(LR.predict(Xtrain_reshape[:10000,:]),Ytrain[:10000])))\n",
    "print(\"Test Accuracy: \" + str(accuracy_score(LR.predict(Xtest_reshape),Ytest)))"
   ]
  },
  {
   "cell_type": "markdown",
   "metadata": {},
   "source": [
    "#### 2. Random Forest Classifier"
   ]
  },
  {
   "cell_type": "code",
   "execution_count": 128,
   "metadata": {},
   "outputs": [
    {
     "name": "stdout",
     "output_type": "stream",
     "text": [
      "Training Accuracy: 0.987\n",
      "Test Accuracy: 0.8368\n"
     ]
    }
   ],
   "source": [
    "from sklearn.ensemble import RandomForestClassifier\n",
    "RandForest = RandomForestClassifier(n_estimators=20,max_depth=8,min_samples_leaf=2)\n",
    "RandForest.fit(Xtrain_reshape[:1000,:],Ytrain[:1000])\n",
    "print(\"Training Accuracy: \" + str(accuracy_score(RandForest.predict(Xtrain_reshape[:1000,:]),Ytrain[:1000])))\n",
    "print(\"Test Accuracy: \" + str(accuracy_score(RandForest.predict(Xtest_reshape),Ytest)))"
   ]
  },
  {
   "cell_type": "markdown",
   "metadata": {},
   "source": [
    "#### <font color=red>Takeaway 2 <br> <br> Amount of Training Input Data <br> <br> More data gets you more accurate results.</font>"
   ]
  },
  {
   "cell_type": "code",
   "execution_count": 40,
   "metadata": {},
   "outputs": [
    {
     "name": "stdout",
     "output_type": "stream",
     "text": [
      "Training Accuracy: 0.9803\n",
      "Test Accuracy: 0.9396\n"
     ]
    }
   ],
   "source": [
    "from sklearn.ensemble import RandomForestClassifier\n",
    "RF = RandomForestClassifier(n_estimators=200,max_depth=25,min_samples_leaf=7)\n",
    "RF.fit(Xtrain_reshape[:10000,:],Ytrain[:10000])\n",
    "print(\"Training Accuracy: \" + str(accuracy_score(RF.predict(Xtrain_reshape[:10000,:]),Ytrain[:10000])))\n",
    "print(\"Test Accuracy: \" + str(accuracy_score(RF.predict(Xtest_reshape),Ytest)))"
   ]
  },
  {
   "cell_type": "markdown",
   "metadata": {},
   "source": [
    "#### 3. Multilayer Perceptron Classifier"
   ]
  },
  {
   "cell_type": "code",
   "execution_count": 131,
   "metadata": {},
   "outputs": [
    {
     "name": "stdout",
     "output_type": "stream",
     "text": [
      "Epoch 1/100\n",
      "10000/10000 [==============================] - 25s 2ms/step - loss: 2.0204 - acc: 0.3975\n",
      "Epoch 2/100\n",
      "10000/10000 [==============================] - 0s 25us/step - loss: 1.4265 - acc: 0.6867\n",
      "Epoch 3/100\n",
      "10000/10000 [==============================] - 0s 23us/step - loss: 1.0082 - acc: 0.7927\n",
      "Epoch 4/100\n",
      "10000/10000 [==============================] - 0s 25us/step - loss: 0.7634 - acc: 0.8418\n",
      "Epoch 5/100\n",
      "10000/10000 [==============================] - 0s 26us/step - loss: 0.6283 - acc: 0.8674\n",
      "Epoch 6/100\n",
      "10000/10000 [==============================] - 0s 25us/step - loss: 0.5439 - acc: 0.8795\n",
      "Epoch 7/100\n",
      "10000/10000 [==============================] - 0s 21us/step - loss: 0.4865 - acc: 0.8888\n",
      "Epoch 8/100\n",
      "10000/10000 [==============================] - 0s 24us/step - loss: 0.4445 - acc: 0.8960\n",
      "Epoch 9/100\n",
      "10000/10000 [==============================] - 0s 24us/step - loss: 0.4125 - acc: 0.9006\n",
      "Epoch 10/100\n",
      "10000/10000 [==============================] - 0s 24us/step - loss: 0.3872 - acc: 0.9061\n",
      "Epoch 11/100\n",
      "10000/10000 [==============================] - 0s 21us/step - loss: 0.3667 - acc: 0.9108\n",
      "Epoch 12/100\n",
      "10000/10000 [==============================] - 0s 22us/step - loss: 0.3499 - acc: 0.9134\n",
      "Epoch 13/100\n",
      "10000/10000 [==============================] - 0s 23us/step - loss: 0.3350 - acc: 0.9165\n",
      "Epoch 14/100\n",
      "10000/10000 [==============================] - 0s 21us/step - loss: 0.3219 - acc: 0.9183\n",
      "Epoch 15/100\n",
      "10000/10000 [==============================] - 0s 21us/step - loss: 0.3108 - acc: 0.9213\n",
      "Epoch 16/100\n",
      "10000/10000 [==============================] - 0s 21us/step - loss: 0.3011 - acc: 0.9222\n",
      "Epoch 17/100\n",
      "10000/10000 [==============================] - 0s 23us/step - loss: 0.2919 - acc: 0.9251\n",
      "Epoch 18/100\n",
      "10000/10000 [==============================] - 0s 23us/step - loss: 0.2834 - acc: 0.9258\n",
      "Epoch 19/100\n",
      "10000/10000 [==============================] - 0s 29us/step - loss: 0.2761 - acc: 0.9270\n",
      "Epoch 20/100\n",
      "10000/10000 [==============================] - 0s 27us/step - loss: 0.2686 - acc: 0.9289\n",
      "Epoch 21/100\n",
      "10000/10000 [==============================] - 0s 28us/step - loss: 0.2620 - acc: 0.9299\n",
      "Epoch 22/100\n",
      "10000/10000 [==============================] - 0s 29us/step - loss: 0.2560 - acc: 0.9313\n",
      "Epoch 23/100\n",
      "10000/10000 [==============================] - 0s 23us/step - loss: 0.2499 - acc: 0.9326\n",
      "Epoch 24/100\n",
      "10000/10000 [==============================] - 0s 23us/step - loss: 0.2452 - acc: 0.9329\n",
      "Epoch 25/100\n",
      "10000/10000 [==============================] - 0s 23us/step - loss: 0.2393 - acc: 0.9357\n",
      "Epoch 26/100\n",
      "10000/10000 [==============================] - 0s 23us/step - loss: 0.2346 - acc: 0.9364\n",
      "Epoch 27/100\n",
      "10000/10000 [==============================] - 0s 23us/step - loss: 0.2298 - acc: 0.9365\n",
      "Epoch 28/100\n",
      "10000/10000 [==============================] - 0s 22us/step - loss: 0.2254 - acc: 0.9384: 0s - loss: 0.2231 - acc: 0.938\n",
      "Epoch 29/100\n",
      "10000/10000 [==============================] - 0s 24us/step - loss: 0.2210 - acc: 0.9386\n",
      "Epoch 30/100\n",
      "10000/10000 [==============================] - 0s 23us/step - loss: 0.2167 - acc: 0.9404\n",
      "Epoch 31/100\n",
      "10000/10000 [==============================] - 0s 23us/step - loss: 0.2128 - acc: 0.9412\n",
      "Epoch 32/100\n",
      "10000/10000 [==============================] - 0s 22us/step - loss: 0.2094 - acc: 0.9411\n",
      "Epoch 33/100\n",
      "10000/10000 [==============================] - 0s 22us/step - loss: 0.2050 - acc: 0.9433\n",
      "Epoch 34/100\n",
      "10000/10000 [==============================] - 0s 23us/step - loss: 0.2018 - acc: 0.9446\n",
      "Epoch 35/100\n",
      "10000/10000 [==============================] - 0s 23us/step - loss: 0.1981 - acc: 0.9449\n",
      "Epoch 36/100\n",
      "10000/10000 [==============================] - 0s 21us/step - loss: 0.1948 - acc: 0.9456\n",
      "Epoch 37/100\n",
      "10000/10000 [==============================] - 0s 21us/step - loss: 0.1913 - acc: 0.9475\n",
      "Epoch 38/100\n",
      "10000/10000 [==============================] - 0s 23us/step - loss: 0.1880 - acc: 0.9479\n",
      "Epoch 39/100\n",
      "10000/10000 [==============================] - 0s 23us/step - loss: 0.1848 - acc: 0.9480\n",
      "Epoch 40/100\n",
      "10000/10000 [==============================] - 0s 23us/step - loss: 0.1822 - acc: 0.9494\n",
      "Epoch 41/100\n",
      "10000/10000 [==============================] - 0s 22us/step - loss: 0.1785 - acc: 0.9501\n",
      "Epoch 42/100\n",
      "10000/10000 [==============================] - 0s 22us/step - loss: 0.1760 - acc: 0.9502\n",
      "Epoch 43/100\n",
      "10000/10000 [==============================] - 0s 24us/step - loss: 0.1732 - acc: 0.9524\n",
      "Epoch 44/100\n",
      "10000/10000 [==============================] - 0s 24us/step - loss: 0.1703 - acc: 0.9523\n",
      "Epoch 45/100\n",
      "10000/10000 [==============================] - 0s 23us/step - loss: 0.1680 - acc: 0.9532\n",
      "Epoch 46/100\n",
      "10000/10000 [==============================] - 0s 22us/step - loss: 0.1650 - acc: 0.9543\n",
      "Epoch 47/100\n",
      "10000/10000 [==============================] - 0s 24us/step - loss: 0.1624 - acc: 0.9544\n",
      "Epoch 48/100\n",
      "10000/10000 [==============================] - 0s 22us/step - loss: 0.1597 - acc: 0.9553\n",
      "Epoch 49/100\n",
      "10000/10000 [==============================] - 0s 23us/step - loss: 0.1574 - acc: 0.9573\n",
      "Epoch 50/100\n",
      "10000/10000 [==============================] - 0s 22us/step - loss: 0.1551 - acc: 0.9572\n",
      "Epoch 51/100\n",
      "10000/10000 [==============================] - 0s 24us/step - loss: 0.1527 - acc: 0.9584\n",
      "Epoch 52/100\n",
      "10000/10000 [==============================] - 0s 22us/step - loss: 0.1506 - acc: 0.9590\n",
      "Epoch 53/100\n",
      "10000/10000 [==============================] - 0s 23us/step - loss: 0.1481 - acc: 0.9602\n",
      "Epoch 54/100\n",
      "10000/10000 [==============================] - 0s 20us/step - loss: 0.1455 - acc: 0.9607\n",
      "Epoch 55/100\n",
      "10000/10000 [==============================] - 0s 20us/step - loss: 0.1438 - acc: 0.9610\n",
      "Epoch 56/100\n",
      "10000/10000 [==============================] - 0s 22us/step - loss: 0.1415 - acc: 0.9618\n",
      "Epoch 57/100\n",
      "10000/10000 [==============================] - 0s 22us/step - loss: 0.1393 - acc: 0.9633\n",
      "Epoch 58/100\n",
      "10000/10000 [==============================] - 0s 25us/step - loss: 0.1372 - acc: 0.9631\n",
      "Epoch 59/100\n",
      "10000/10000 [==============================] - 0s 38us/step - loss: 0.1353 - acc: 0.9643: 0s - loss: 0.1434 - acc: \n",
      "Epoch 60/100\n",
      "10000/10000 [==============================] - 0s 26us/step - loss: 0.1334 - acc: 0.9644\n",
      "Epoch 61/100\n",
      "10000/10000 [==============================] - 0s 28us/step - loss: 0.1315 - acc: 0.9655\n",
      "Epoch 62/100\n",
      "10000/10000 [==============================] - 0s 33us/step - loss: 0.1295 - acc: 0.9652\n",
      "Epoch 63/100\n",
      "10000/10000 [==============================] - 0s 24us/step - loss: 0.1275 - acc: 0.9673\n",
      "Epoch 64/100\n",
      "10000/10000 [==============================] - 0s 26us/step - loss: 0.1257 - acc: 0.9669\n",
      "Epoch 65/100\n",
      "10000/10000 [==============================] - 0s 28us/step - loss: 0.1242 - acc: 0.9681\n",
      "Epoch 66/100\n",
      "10000/10000 [==============================] - 0s 20us/step - loss: 0.1220 - acc: 0.9683\n",
      "Epoch 67/100\n",
      "10000/10000 [==============================] - 0s 26us/step - loss: 0.1205 - acc: 0.9681\n",
      "Epoch 68/100\n",
      "10000/10000 [==============================] - 0s 22us/step - loss: 0.1188 - acc: 0.9693\n",
      "Epoch 69/100\n",
      "10000/10000 [==============================] - 0s 24us/step - loss: 0.1170 - acc: 0.9701\n",
      "Epoch 70/100\n",
      "10000/10000 [==============================] - 0s 21us/step - loss: 0.1155 - acc: 0.9705\n",
      "Epoch 71/100\n",
      "10000/10000 [==============================] - 0s 21us/step - loss: 0.1136 - acc: 0.9704\n",
      "Epoch 72/100\n",
      "10000/10000 [==============================] - 0s 24us/step - loss: 0.1124 - acc: 0.9708\n",
      "Epoch 73/100\n",
      "10000/10000 [==============================] - 0s 24us/step - loss: 0.1110 - acc: 0.9721\n",
      "Epoch 74/100\n",
      "10000/10000 [==============================] - 0s 28us/step - loss: 0.1091 - acc: 0.9728\n",
      "Epoch 75/100\n",
      "10000/10000 [==============================] - 0s 26us/step - loss: 0.1075 - acc: 0.9723\n",
      "Epoch 76/100\n",
      "10000/10000 [==============================] - 0s 29us/step - loss: 0.1060 - acc: 0.9735\n",
      "Epoch 77/100\n",
      "10000/10000 [==============================] - 0s 22us/step - loss: 0.1046 - acc: 0.9740\n",
      "Epoch 78/100\n",
      "10000/10000 [==============================] - 0s 31us/step - loss: 0.1035 - acc: 0.9736\n",
      "Epoch 79/100\n",
      "10000/10000 [==============================] - 0s 33us/step - loss: 0.1017 - acc: 0.9753\n",
      "Epoch 80/100\n"
     ]
    },
    {
     "name": "stdout",
     "output_type": "stream",
     "text": [
      "10000/10000 [==============================] - 0s 36us/step - loss: 0.1007 - acc: 0.9741\n",
      "Epoch 81/100\n",
      "10000/10000 [==============================] - 0s 28us/step - loss: 0.0991 - acc: 0.9750\n",
      "Epoch 82/100\n",
      "10000/10000 [==============================] - 0s 24us/step - loss: 0.0978 - acc: 0.9757\n",
      "Epoch 83/100\n",
      "10000/10000 [==============================] - 0s 26us/step - loss: 0.0962 - acc: 0.9765\n",
      "Epoch 84/100\n",
      "10000/10000 [==============================] - 0s 26us/step - loss: 0.0952 - acc: 0.9767\n",
      "Epoch 85/100\n",
      "10000/10000 [==============================] - 0s 37us/step - loss: 0.0937 - acc: 0.9772\n",
      "Epoch 86/100\n",
      "10000/10000 [==============================] - 0s 30us/step - loss: 0.0926 - acc: 0.9777\n",
      "Epoch 87/100\n",
      "10000/10000 [==============================] - 0s 30us/step - loss: 0.0914 - acc: 0.9777\n",
      "Epoch 88/100\n",
      "10000/10000 [==============================] - 0s 27us/step - loss: 0.0900 - acc: 0.9782\n",
      "Epoch 89/100\n",
      "10000/10000 [==============================] - 0s 35us/step - loss: 0.0889 - acc: 0.9790\n",
      "Epoch 90/100\n",
      "10000/10000 [==============================] - 0s 20us/step - loss: 0.0877 - acc: 0.9796\n",
      "Epoch 91/100\n",
      "10000/10000 [==============================] - 0s 23us/step - loss: 0.0864 - acc: 0.9800\n",
      "Epoch 92/100\n",
      "10000/10000 [==============================] - 0s 25us/step - loss: 0.0854 - acc: 0.9798\n",
      "Epoch 93/100\n",
      "10000/10000 [==============================] - 0s 26us/step - loss: 0.0840 - acc: 0.9802\n",
      "Epoch 94/100\n",
      "10000/10000 [==============================] - 0s 25us/step - loss: 0.0834 - acc: 0.9805\n",
      "Epoch 95/100\n",
      "10000/10000 [==============================] - 0s 25us/step - loss: 0.0822 - acc: 0.9805\n",
      "Epoch 96/100\n",
      "10000/10000 [==============================] - 0s 26us/step - loss: 0.0810 - acc: 0.9814\n",
      "Epoch 97/100\n",
      "10000/10000 [==============================] - 0s 24us/step - loss: 0.0797 - acc: 0.9818: 0s - loss: 0.0794 - acc: 0.\n",
      "Epoch 98/100\n",
      "10000/10000 [==============================] - 0s 21us/step - loss: 0.0788 - acc: 0.9811\n",
      "Epoch 99/100\n",
      "10000/10000 [==============================] - 0s 20us/step - loss: 0.0776 - acc: 0.9828\n",
      "Epoch 100/100\n",
      "10000/10000 [==============================] - 0s 26us/step - loss: 0.0766 - acc: 0.9830\n"
     ]
    },
    {
     "data": {
      "text/plain": [
       "<tensorflow.python.keras.callbacks.History at 0x18c8bdfec50>"
      ]
     },
     "execution_count": 131,
     "metadata": {},
     "output_type": "execute_result"
    }
   ],
   "source": [
    "import tensorflow as tf\n",
    "from tensorflow import keras\n",
    "from tensorflow.keras.layers import Dense, Dropout\n",
    "NN = keras.Sequential()\n",
    "NN.add(Dense(50, activation='relu'))\n",
    "NN.add(Dropout(0.7))\n",
    "NN.add(Dense(10, activation='softmax'))\n",
    "\n",
    "NN.compile(loss='sparse_categorical_crossentropy',optimizer=tf.keras.optimizers.Adam(0.0002),metrics=['accuracy'])\n",
    "NN.fit(Xtrain_reshape[:10000,:],Ytrain[:10000],batch_size=200,epochs=100)"
   ]
  },
  {
   "cell_type": "code",
   "execution_count": 133,
   "metadata": {},
   "outputs": [
    {
     "name": "stdout",
     "output_type": "stream",
     "text": [
      "NN\n",
      "Training Accuracy: 0.9837\n",
      "Test Accuracy: 0.98\n"
     ]
    }
   ],
   "source": [
    "print(\"NN\")\n",
    "print(\"Training Accuracy: \" + str(accuracy_score(NN.predict_classes(Xtrain_reshape[:10000,:]),Ytrain[:10000])))\n",
    "print(\"Test Accuracy: \" + str(accuracy_score(NN.predict_classes(Xtrain_reshape[:1000,:]),Ytrain[:1000])))"
   ]
  },
  {
   "cell_type": "markdown",
   "metadata": {},
   "source": [
    "#### <font color=red>Takeaway 3 <br> <br> Do not mix training and test data!!!</font>"
   ]
  },
  {
   "cell_type": "code",
   "execution_count": 135,
   "metadata": {
    "scrolled": true
   },
   "outputs": [
    {
     "name": "stdout",
     "output_type": "stream",
     "text": [
      "Epoch 1/100\n",
      "60000/60000 [==============================] - 20s 337us/step - loss: 0.4106 - acc: 0.8806\n",
      "Epoch 2/100\n",
      "60000/60000 [==============================] - 1s 21us/step - loss: 0.1834 - acc: 0.9474\n",
      "Epoch 3/100\n",
      "60000/60000 [==============================] - 1s 21us/step - loss: 0.1398 - acc: 0.9593\n",
      "Epoch 4/100\n",
      "60000/60000 [==============================] - 1s 21us/step - loss: 0.1117 - acc: 0.9666\n",
      "Epoch 5/100\n",
      "60000/60000 [==============================] - 1s 21us/step - loss: 0.0940 - acc: 0.9719\n",
      "Epoch 6/100\n",
      "60000/60000 [==============================] - 1s 21us/step - loss: 0.0815 - acc: 0.9755\n",
      "Epoch 7/100\n",
      "60000/60000 [==============================] - 1s 21us/step - loss: 0.0696 - acc: 0.9788\n",
      "Epoch 8/100\n",
      "60000/60000 [==============================] - 1s 21us/step - loss: 0.0628 - acc: 0.9811\n",
      "Epoch 9/100\n",
      "60000/60000 [==============================] - 1s 23us/step - loss: 0.0556 - acc: 0.9827: 0s - loss: 0.0517 - acc\n",
      "Epoch 10/100\n",
      "60000/60000 [==============================] - 1s 22us/step - loss: 0.0483 - acc: 0.9852\n",
      "Epoch 11/100\n",
      "60000/60000 [==============================] - 1s 22us/step - loss: 0.0467 - acc: 0.9858\n",
      "Epoch 12/100\n",
      "60000/60000 [==============================] - 1s 22us/step - loss: 0.0406 - acc: 0.9871\n",
      "Epoch 13/100\n",
      "60000/60000 [==============================] - 1s 22us/step - loss: 0.0368 - acc: 0.9886\n",
      "Epoch 14/100\n",
      "60000/60000 [==============================] - 1s 22us/step - loss: 0.0339 - acc: 0.9893\n",
      "Epoch 15/100\n",
      "60000/60000 [==============================] - 2s 30us/step - loss: 0.0332 - acc: 0.9896\n",
      "Epoch 16/100\n",
      "60000/60000 [==============================] - 1s 25us/step - loss: 0.0279 - acc: 0.9912\n",
      "Epoch 17/100\n",
      "60000/60000 [==============================] - 1s 25us/step - loss: 0.0241 - acc: 0.9927\n",
      "Epoch 18/100\n",
      "60000/60000 [==============================] - 2s 27us/step - loss: 0.0242 - acc: 0.9921\n",
      "Epoch 19/100\n",
      "60000/60000 [==============================] - 2s 27us/step - loss: 0.0219 - acc: 0.9934\n",
      "Epoch 20/100\n",
      "60000/60000 [==============================] - 2s 25us/step - loss: 0.0202 - acc: 0.9936\n",
      "Epoch 21/100\n",
      "60000/60000 [==============================] - 2s 25us/step - loss: 0.0181 - acc: 0.9942\n",
      "Epoch 22/100\n",
      "60000/60000 [==============================] - 2s 26us/step - loss: 0.0168 - acc: 0.9950\n",
      "Epoch 23/100\n",
      "60000/60000 [==============================] - 2s 26us/step - loss: 0.0190 - acc: 0.9938\n",
      "Epoch 24/100\n",
      "60000/60000 [==============================] - 2s 28us/step - loss: 0.0163 - acc: 0.9945\n",
      "Epoch 25/100\n",
      "60000/60000 [==============================] - 2s 27us/step - loss: 0.0151 - acc: 0.9951\n",
      "Epoch 26/100\n",
      "60000/60000 [==============================] - 1s 25us/step - loss: 0.0174 - acc: 0.9940\n",
      "Epoch 27/100\n",
      "60000/60000 [==============================] - 1s 23us/step - loss: 0.0130 - acc: 0.9960\n",
      "Epoch 28/100\n",
      "60000/60000 [==============================] - 2s 26us/step - loss: 0.0147 - acc: 0.9950: 0s - loss: 0.0141 - acc\n",
      "Epoch 29/100\n",
      "60000/60000 [==============================] - 1s 24us/step - loss: 0.0124 - acc: 0.9961\n",
      "Epoch 30/100\n",
      "60000/60000 [==============================] - 2s 27us/step - loss: 0.0131 - acc: 0.9956\n",
      "Epoch 31/100\n",
      "60000/60000 [==============================] - 2s 34us/step - loss: 0.0106 - acc: 0.9968\n",
      "Epoch 32/100\n",
      "60000/60000 [==============================] - 1s 23us/step - loss: 0.0097 - acc: 0.9968\n",
      "Epoch 33/100\n",
      "60000/60000 [==============================] - 1s 25us/step - loss: 0.0094 - acc: 0.9972\n",
      "Epoch 34/100\n",
      "60000/60000 [==============================] - 1s 24us/step - loss: 0.0170 - acc: 0.9942\n",
      "Epoch 35/100\n",
      "60000/60000 [==============================] - 1s 23us/step - loss: 0.0100 - acc: 0.9969\n",
      "Epoch 36/100\n",
      "60000/60000 [==============================] - 1s 24us/step - loss: 0.0128 - acc: 0.9958\n",
      "Epoch 37/100\n",
      "60000/60000 [==============================] - 1s 24us/step - loss: 0.0093 - acc: 0.9969\n",
      "Epoch 38/100\n",
      "60000/60000 [==============================] - 1s 23us/step - loss: 0.0120 - acc: 0.9962\n",
      "Epoch 39/100\n",
      "60000/60000 [==============================] - 2s 29us/step - loss: 0.0095 - acc: 0.9969\n",
      "Epoch 40/100\n",
      "60000/60000 [==============================] - 2s 27us/step - loss: 0.0070 - acc: 0.9977\n",
      "Epoch 41/100\n",
      "60000/60000 [==============================] - 1s 22us/step - loss: 0.0042 - acc: 0.9990\n",
      "Epoch 42/100\n",
      "60000/60000 [==============================] - 1s 22us/step - loss: 0.0047 - acc: 0.9985\n",
      "Epoch 43/100\n",
      "60000/60000 [==============================] - 1s 23us/step - loss: 0.0080 - acc: 0.9974\n",
      "Epoch 44/100\n",
      "60000/60000 [==============================] - 1s 22us/step - loss: 0.0151 - acc: 0.9951\n",
      "Epoch 45/100\n",
      "60000/60000 [==============================] - 1s 22us/step - loss: 0.0132 - acc: 0.9957\n",
      "Epoch 46/100\n",
      "60000/60000 [==============================] - 1s 22us/step - loss: 0.0073 - acc: 0.9977\n",
      "Epoch 47/100\n",
      "60000/60000 [==============================] - 1s 22us/step - loss: 0.0048 - acc: 0.9987\n",
      "Epoch 48/100\n",
      "60000/60000 [==============================] - 2s 27us/step - loss: 0.0077 - acc: 0.9975\n",
      "Epoch 49/100\n",
      "60000/60000 [==============================] - 2s 28us/step - loss: 0.0104 - acc: 0.9966\n",
      "Epoch 50/100\n",
      "60000/60000 [==============================] - 2s 29us/step - loss: 0.0060 - acc: 0.9983\n",
      "Epoch 51/100\n",
      "60000/60000 [==============================] - 2s 27us/step - loss: 0.0025 - acc: 0.9994\n",
      "Epoch 52/100\n",
      "60000/60000 [==============================] - 2s 30us/step - loss: 0.0053 - acc: 0.9983\n",
      "Epoch 53/100\n",
      "60000/60000 [==============================] - 2s 27us/step - loss: 0.0139 - acc: 0.9956\n",
      "Epoch 54/100\n",
      "60000/60000 [==============================] - 2s 31us/step - loss: 0.0111 - acc: 0.9964\n",
      "Epoch 55/100\n",
      "60000/60000 [==============================] - 2s 27us/step - loss: 0.0057 - acc: 0.9981: 0s - loss: 0.00\n",
      "Epoch 56/100\n",
      "60000/60000 [==============================] - 2s 27us/step - loss: 0.0014 - acc: 0.9998\n",
      "Epoch 57/100\n",
      "60000/60000 [==============================] - 2s 29us/step - loss: 5.4649e-04 - acc: 1.0000\n",
      "Epoch 58/100\n",
      "60000/60000 [==============================] - 1s 23us/step - loss: 4.6800e-04 - acc: 1.0000\n",
      "Epoch 59/100\n",
      "60000/60000 [==============================] - 1s 24us/step - loss: 4.1164e-04 - acc: 1.0000\n",
      "Epoch 60/100\n",
      "60000/60000 [==============================] - 2s 33us/step - loss: 3.9139e-04 - acc: 1.0000\n",
      "Epoch 61/100\n",
      "60000/60000 [==============================] - 1s 22us/step - loss: 3.7830e-04 - acc: 1.0000\n",
      "Epoch 62/100\n",
      "60000/60000 [==============================] - 1s 23us/step - loss: 3.6860e-04 - acc: 1.0000\n",
      "Epoch 63/100\n",
      "60000/60000 [==============================] - 1s 23us/step - loss: 3.6007e-04 - acc: 1.0000\n",
      "Epoch 64/100\n",
      "60000/60000 [==============================] - 1s 23us/step - loss: 3.4884e-04 - acc: 1.0000\n",
      "Epoch 65/100\n",
      "60000/60000 [==============================] - 1s 23us/step - loss: 3.4254e-04 - acc: 1.0000\n",
      "Epoch 66/100\n",
      "60000/60000 [==============================] - 1s 23us/step - loss: 3.3520e-04 - acc: 1.0000\n",
      "Epoch 67/100\n",
      "60000/60000 [==============================] - 1s 23us/step - loss: 3.2993e-04 - acc: 1.0000\n",
      "Epoch 68/100\n",
      "60000/60000 [==============================] - 1s 22us/step - loss: 3.2423e-04 - acc: 1.0000\n",
      "Epoch 69/100\n",
      "60000/60000 [==============================] - 1s 24us/step - loss: 3.1908e-04 - acc: 1.0000: 0s - loss: 6.6919e-\n",
      "Epoch 70/100\n",
      "60000/60000 [==============================] - ETA: 0s - loss: 3.2192e-04 - acc: 1.000 - 2s 32us/step - loss: 3.1615e-04 - acc: 1.0000\n",
      "Epoch 71/100\n",
      "60000/60000 [==============================] - 1s 25us/step - loss: 3.1263e-04 - acc: 1.0000\n",
      "Epoch 72/100\n",
      "60000/60000 [==============================] - 2s 32us/step - loss: 3.0612e-04 - acc: 1.0000\n",
      "Epoch 73/100\n",
      "60000/60000 [==============================] - 2s 26us/step - loss: 3.2304e-04 - acc: 1.0000\n",
      "Epoch 74/100\n",
      "60000/60000 [==============================] - 2s 28us/step - loss: 0.0844 - acc: 0.9818\n",
      "Epoch 75/100\n",
      "60000/60000 [==============================] - 2s 28us/step - loss: 0.0117 - acc: 0.9964\n",
      "Epoch 76/100\n",
      "60000/60000 [==============================] - ETA: 0s - loss: 0.0047 - acc: 0.998 - 1s 24us/step - loss: 0.0046 - acc: 0.9986\n",
      "Epoch 77/100\n",
      "60000/60000 [==============================] - 1s 24us/step - loss: 0.0016 - acc: 0.9997\n",
      "Epoch 78/100\n",
      "60000/60000 [==============================] - 2s 27us/step - loss: 0.0017 - acc: 0.9996\n",
      "Epoch 79/100\n"
     ]
    },
    {
     "name": "stdout",
     "output_type": "stream",
     "text": [
      "60000/60000 [==============================] - 2s 28us/step - loss: 0.0014 - acc: 0.9997\n",
      "Epoch 80/100\n",
      "60000/60000 [==============================] - 2s 26us/step - loss: 0.0084 - acc: 0.9972\n",
      "Epoch 81/100\n",
      "60000/60000 [==============================] - 1s 24us/step - loss: 0.0159 - acc: 0.9951\n",
      "Epoch 82/100\n",
      "60000/60000 [==============================] - 1s 23us/step - loss: 0.0098 - acc: 0.9969\n",
      "Epoch 83/100\n",
      "60000/60000 [==============================] - 1s 23us/step - loss: 0.0037 - acc: 0.9988\n",
      "Epoch 84/100\n",
      "60000/60000 [==============================] - 1s 23us/step - loss: 0.0025 - acc: 0.9993\n",
      "Epoch 85/100\n",
      "60000/60000 [==============================] - 1s 22us/step - loss: 0.0045 - acc: 0.9987: 0s - loss: 0.0043 - acc: 0.998\n",
      "Epoch 86/100\n",
      "60000/60000 [==============================] - 1s 22us/step - loss: 0.0083 - acc: 0.9971\n",
      "Epoch 87/100\n",
      "60000/60000 [==============================] - 1s 23us/step - loss: 0.0098 - acc: 0.9970\n",
      "Epoch 88/100\n",
      "60000/60000 [==============================] - 1s 22us/step - loss: 0.0071 - acc: 0.9976\n",
      "Epoch 89/100\n",
      "60000/60000 [==============================] - 2s 33us/step - loss: 0.0054 - acc: 0.9985\n",
      "Epoch 90/100\n",
      "60000/60000 [==============================] - 1s 21us/step - loss: 0.0027 - acc: 0.9992\n",
      "Epoch 91/100\n",
      "60000/60000 [==============================] - 1s 21us/step - loss: 0.0075 - acc: 0.9976\n",
      "Epoch 92/100\n",
      "60000/60000 [==============================] - 1s 22us/step - loss: 0.0054 - acc: 0.9983\n",
      "Epoch 93/100\n",
      "60000/60000 [==============================] - 1s 21us/step - loss: 0.0043 - acc: 0.9987\n",
      "Epoch 94/100\n",
      "60000/60000 [==============================] - 1s 21us/step - loss: 0.0034 - acc: 0.9989\n",
      "Epoch 95/100\n",
      "60000/60000 [==============================] - 1s 21us/step - loss: 0.0039 - acc: 0.9989: 0s - loss: 0.0032 - a\n",
      "Epoch 96/100\n",
      "60000/60000 [==============================] - 1s 21us/step - loss: 0.0091 - acc: 0.9973\n",
      "Epoch 97/100\n",
      "60000/60000 [==============================] - 1s 21us/step - loss: 0.0124 - acc: 0.9963\n",
      "Epoch 98/100\n",
      "60000/60000 [==============================] - 1s 21us/step - loss: 0.0056 - acc: 0.9985\n",
      "Epoch 99/100\n",
      "60000/60000 [==============================] - 1s 21us/step - loss: 0.0041 - acc: 0.9986\n",
      "Epoch 100/100\n",
      "60000/60000 [==============================] - 1s 21us/step - loss: 0.0060 - acc: 0.9980\n"
     ]
    },
    {
     "data": {
      "text/plain": [
       "<tensorflow.python.keras.callbacks.History at 0x18c8d7792b0>"
      ]
     },
     "execution_count": 135,
     "metadata": {},
     "output_type": "execute_result"
    }
   ],
   "source": [
    "NN_deep = keras.Sequential()\n",
    "NN_deep.add(Dense(50, activation='relu'))\n",
    "NN_deep.add(Dense(30, activation='relu'))\n",
    "NN_deep.add(Dense(10, activation='softmax'))\n",
    "\n",
    "NN_deep.compile(loss='sparse_categorical_crossentropy',optimizer=tf.keras.optimizers.Adam(0.002),metrics=['accuracy'])\n",
    "NN_deep.fit(Xtrain_reshape,Ytrain,batch_size=200,epochs=100)"
   ]
  },
  {
   "cell_type": "code",
   "execution_count": null,
   "metadata": {},
   "outputs": [],
   "source": [
    "print(\"NN\")\n",
    "print(\"Training Accuracy: \" + str(accuracy_score(NN_deep.predict_classes(Xtrain_reshape[:10000,:]),Ytrain[:10000])))\n",
    "print(\"Test Accuracy: \" + str(accuracy_score(NN_deep.predict_classes(Xtrain_reshape[:1000,:]),Ytrain[:1000])))"
   ]
  },
  {
   "cell_type": "markdown",
   "metadata": {},
   "source": [
    "#### <font color=red>Takeaway 4 <br> <br> If you're not careful... your model can overfit</font>"
   ]
  },
  {
   "cell_type": "markdown",
   "metadata": {},
   "source": [
    "#### <font color=red>A few things can be done to prevent overfitting: hyperparameter optimization, reducing the learning_rate, reducing the network size/parameters used, dropout </font>"
   ]
  },
  {
   "cell_type": "markdown",
   "metadata": {},
   "source": [
    "#### <font color=red>For this instance, we attempt dropout to randomly set the nodes in the network to zero.</font>"
   ]
  },
  {
   "cell_type": "code",
   "execution_count": 117,
   "metadata": {},
   "outputs": [
    {
     "name": "stdout",
     "output_type": "stream",
     "text": [
      "Epoch 1/100\n",
      "60000/60000 [==============================] - 28s 474us/step - loss: 1.1415 - acc: 0.6900\n",
      "Epoch 2/100\n",
      "60000/60000 [==============================] - 2s 32us/step - loss: 0.4007 - acc: 0.8941\n",
      "Epoch 3/100\n",
      "60000/60000 [==============================] - 2s 37us/step - loss: 0.3093 - acc: 0.9146\n",
      "Epoch 4/100\n",
      "60000/60000 [==============================] - 2s 29us/step - loss: 0.2681 - acc: 0.9250\n",
      "Epoch 5/100\n",
      "60000/60000 [==============================] - 1s 23us/step - loss: 0.2419 - acc: 0.9323\n",
      "Epoch 6/100\n",
      "60000/60000 [==============================] - 1s 23us/step - loss: 0.2224 - acc: 0.9373\n",
      "Epoch 7/100\n",
      "60000/60000 [==============================] - 1s 23us/step - loss: 0.2065 - acc: 0.9419\n",
      "Epoch 8/100\n",
      "60000/60000 [==============================] - 1s 23us/step - loss: 0.1931 - acc: 0.9454\n",
      "Epoch 9/100\n",
      "60000/60000 [==============================] - 1s 23us/step - loss: 0.1822 - acc: 0.9487\n",
      "Epoch 10/100\n",
      "60000/60000 [==============================] - 1s 23us/step - loss: 0.1724 - acc: 0.9510\n",
      "Epoch 11/100\n",
      "60000/60000 [==============================] - 1s 23us/step - loss: 0.1636 - acc: 0.9534: 1s - \n",
      "Epoch 12/100\n",
      "60000/60000 [==============================] - 1s 22us/step - loss: 0.1562 - acc: 0.9553\n",
      "Epoch 13/100\n",
      "60000/60000 [==============================] - 1s 23us/step - loss: 0.1492 - acc: 0.9579\n",
      "Epoch 14/100\n",
      "60000/60000 [==============================] - 1s 22us/step - loss: 0.1431 - acc: 0.9597\n",
      "Epoch 15/100\n",
      "60000/60000 [==============================] - 1s 23us/step - loss: 0.1373 - acc: 0.9613\n",
      "Epoch 16/100\n",
      "60000/60000 [==============================] - 1s 23us/step - loss: 0.1316 - acc: 0.9629\n",
      "Epoch 17/100\n",
      "60000/60000 [==============================] - 1s 22us/step - loss: 0.1267 - acc: 0.9642\n",
      "Epoch 18/100\n",
      "60000/60000 [==============================] - 1s 23us/step - loss: 0.1221 - acc: 0.9655\n",
      "Epoch 19/100\n",
      "60000/60000 [==============================] - 1s 22us/step - loss: 0.1178 - acc: 0.9668\n",
      "Epoch 20/100\n",
      "60000/60000 [==============================] - 1s 22us/step - loss: 0.1135 - acc: 0.9682\n",
      "Epoch 21/100\n",
      "60000/60000 [==============================] - 1s 23us/step - loss: 0.1101 - acc: 0.9688\n",
      "Epoch 22/100\n",
      "60000/60000 [==============================] - 1s 22us/step - loss: 0.1061 - acc: 0.9701\n",
      "Epoch 23/100\n",
      "60000/60000 [==============================] - 1s 23us/step - loss: 0.1028 - acc: 0.9710\n",
      "Epoch 24/100\n",
      "60000/60000 [==============================] - 1s 23us/step - loss: 0.0996 - acc: 0.9719\n",
      "Epoch 25/100\n",
      "60000/60000 [==============================] - 1s 22us/step - loss: 0.0961 - acc: 0.9729\n",
      "Epoch 26/100\n",
      "60000/60000 [==============================] - 1s 23us/step - loss: 0.0936 - acc: 0.9737\n",
      "Epoch 27/100\n",
      "60000/60000 [==============================] - 1s 22us/step - loss: 0.0908 - acc: 0.9743\n",
      "Epoch 28/100\n",
      "60000/60000 [==============================] - 1s 22us/step - loss: 0.0882 - acc: 0.9749\n",
      "Epoch 29/100\n",
      "60000/60000 [==============================] - 1s 22us/step - loss: 0.0854 - acc: 0.9759\n",
      "Epoch 30/100\n",
      "60000/60000 [==============================] - 1s 22us/step - loss: 0.0833 - acc: 0.9764\n",
      "Epoch 31/100\n",
      "60000/60000 [==============================] - 1s 22us/step - loss: 0.0807 - acc: 0.9771\n",
      "Epoch 32/100\n",
      "60000/60000 [==============================] - 1s 22us/step - loss: 0.0787 - acc: 0.9778\n",
      "Epoch 33/100\n",
      "60000/60000 [==============================] - 1s 22us/step - loss: 0.0767 - acc: 0.9784\n",
      "Epoch 34/100\n",
      "60000/60000 [==============================] - 1s 22us/step - loss: 0.0745 - acc: 0.9790\n",
      "Epoch 35/100\n",
      "60000/60000 [==============================] - 1s 23us/step - loss: 0.0728 - acc: 0.9797\n",
      "Epoch 36/100\n",
      "60000/60000 [==============================] - 1s 22us/step - loss: 0.0705 - acc: 0.9799\n",
      "Epoch 37/100\n",
      "60000/60000 [==============================] - 1s 22us/step - loss: 0.0686 - acc: 0.9809\n",
      "Epoch 38/100\n",
      "60000/60000 [==============================] - 1s 23us/step - loss: 0.0668 - acc: 0.9815\n",
      "Epoch 39/100\n",
      "60000/60000 [==============================] - 1s 22us/step - loss: 0.0651 - acc: 0.9816\n",
      "Epoch 40/100\n",
      "60000/60000 [==============================] - 1s 22us/step - loss: 0.0635 - acc: 0.9826\n",
      "Epoch 41/100\n",
      "60000/60000 [==============================] - 1s 22us/step - loss: 0.0621 - acc: 0.9829\n",
      "Epoch 42/100\n",
      "60000/60000 [==============================] - 1s 23us/step - loss: 0.0606 - acc: 0.9830\n",
      "Epoch 43/100\n",
      "60000/60000 [==============================] - 1s 23us/step - loss: 0.0588 - acc: 0.9835\n",
      "Epoch 44/100\n",
      "60000/60000 [==============================] - 1s 23us/step - loss: 0.0574 - acc: 0.9838\n",
      "Epoch 45/100\n",
      "60000/60000 [==============================] - 1s 22us/step - loss: 0.0559 - acc: 0.9844\n",
      "Epoch 46/100\n",
      "60000/60000 [==============================] - 1s 23us/step - loss: 0.0546 - acc: 0.9849\n",
      "Epoch 47/100\n",
      "60000/60000 [==============================] - 1s 23us/step - loss: 0.0533 - acc: 0.9855\n",
      "Epoch 48/100\n",
      "60000/60000 [==============================] - 1s 22us/step - loss: 0.0520 - acc: 0.9858\n",
      "Epoch 49/100\n",
      "60000/60000 [==============================] - 1s 22us/step - loss: 0.0508 - acc: 0.9862\n",
      "Epoch 50/100\n",
      "60000/60000 [==============================] - 1s 22us/step - loss: 0.0495 - acc: 0.9864\n",
      "Epoch 51/100\n",
      "60000/60000 [==============================] - 1s 23us/step - loss: 0.0484 - acc: 0.9868\n",
      "Epoch 52/100\n",
      "60000/60000 [==============================] - 1s 23us/step - loss: 0.0475 - acc: 0.9873\n",
      "Epoch 53/100\n",
      "60000/60000 [==============================] - 1s 22us/step - loss: 0.0461 - acc: 0.9877\n",
      "Epoch 54/100\n",
      "60000/60000 [==============================] - 1s 23us/step - loss: 0.0452 - acc: 0.9879\n",
      "Epoch 55/100\n",
      "60000/60000 [==============================] - 1s 23us/step - loss: 0.0439 - acc: 0.9884\n",
      "Epoch 56/100\n",
      "60000/60000 [==============================] - 1s 22us/step - loss: 0.0428 - acc: 0.9889\n",
      "Epoch 57/100\n",
      "60000/60000 [==============================] - 1s 23us/step - loss: 0.0421 - acc: 0.9889\n",
      "Epoch 58/100\n",
      "60000/60000 [==============================] - 1s 23us/step - loss: 0.0409 - acc: 0.9893\n",
      "Epoch 59/100\n",
      "60000/60000 [==============================] - 1s 23us/step - loss: 0.0397 - acc: 0.9900\n",
      "Epoch 60/100\n",
      "60000/60000 [==============================] - 1s 22us/step - loss: 0.0393 - acc: 0.9901\n",
      "Epoch 61/100\n",
      "60000/60000 [==============================] - 1s 23us/step - loss: 0.0380 - acc: 0.9901\n",
      "Epoch 62/100\n",
      "60000/60000 [==============================] - 1s 22us/step - loss: 0.0374 - acc: 0.9902\n",
      "Epoch 63/100\n",
      "60000/60000 [==============================] - 1s 22us/step - loss: 0.0364 - acc: 0.9908\n",
      "Epoch 64/100\n",
      "60000/60000 [==============================] - 1s 22us/step - loss: 0.0356 - acc: 0.9911\n",
      "Epoch 65/100\n",
      "60000/60000 [==============================] - 1s 22us/step - loss: 0.0349 - acc: 0.9909\n",
      "Epoch 66/100\n",
      "60000/60000 [==============================] - 1s 23us/step - loss: 0.0340 - acc: 0.9917\n",
      "Epoch 67/100\n",
      "60000/60000 [==============================] - 1s 22us/step - loss: 0.0329 - acc: 0.9921\n",
      "Epoch 68/100\n",
      "60000/60000 [==============================] - 1s 22us/step - loss: 0.0324 - acc: 0.9921\n",
      "Epoch 69/100\n",
      "60000/60000 [==============================] - 1s 22us/step - loss: 0.0315 - acc: 0.9922\n",
      "Epoch 70/100\n",
      "60000/60000 [==============================] - 1s 22us/step - loss: 0.0307 - acc: 0.9927\n",
      "Epoch 71/100\n",
      "60000/60000 [==============================] - 1s 22us/step - loss: 0.0302 - acc: 0.9928: 0s - loss: 0\n",
      "Epoch 72/100\n",
      "60000/60000 [==============================] - 1s 22us/step - loss: 0.0296 - acc: 0.9931\n",
      "Epoch 73/100\n",
      "60000/60000 [==============================] - 1s 22us/step - loss: 0.0288 - acc: 0.9934\n",
      "Epoch 74/100\n",
      "60000/60000 [==============================] - 1s 22us/step - loss: 0.0280 - acc: 0.9934\n",
      "Epoch 75/100\n",
      "60000/60000 [==============================] - 1s 22us/step - loss: 0.0274 - acc: 0.9939\n",
      "Epoch 76/100\n",
      "60000/60000 [==============================] - 1s 23us/step - loss: 0.0268 - acc: 0.9938\n",
      "Epoch 77/100\n",
      "60000/60000 [==============================] - 1s 22us/step - loss: 0.0261 - acc: 0.9945\n",
      "Epoch 78/100\n",
      "60000/60000 [==============================] - 1s 23us/step - loss: 0.0254 - acc: 0.9945\n",
      "Epoch 79/100\n",
      "60000/60000 [==============================] - 1s 23us/step - loss: 0.0252 - acc: 0.9945\n",
      "Epoch 80/100\n",
      "60000/60000 [==============================] - 1s 22us/step - loss: 0.0245 - acc: 0.9947\n",
      "Epoch 81/100\n"
     ]
    },
    {
     "name": "stdout",
     "output_type": "stream",
     "text": [
      "60000/60000 [==============================] - 1s 23us/step - loss: 0.0239 - acc: 0.9946\n",
      "Epoch 82/100\n",
      "60000/60000 [==============================] - 1s 22us/step - loss: 0.0231 - acc: 0.9952\n",
      "Epoch 83/100\n",
      "60000/60000 [==============================] - 1s 22us/step - loss: 0.0225 - acc: 0.9954\n",
      "Epoch 84/100\n",
      "60000/60000 [==============================] - 1s 23us/step - loss: 0.0222 - acc: 0.9954\n",
      "Epoch 85/100\n",
      "60000/60000 [==============================] - 1s 22us/step - loss: 0.0215 - acc: 0.9957\n",
      "Epoch 86/100\n",
      "60000/60000 [==============================] - 1s 22us/step - loss: 0.0208 - acc: 0.9960\n",
      "Epoch 87/100\n",
      "60000/60000 [==============================] - 1s 23us/step - loss: 0.0206 - acc: 0.9955\n",
      "Epoch 88/100\n",
      "60000/60000 [==============================] - 1s 23us/step - loss: 0.0199 - acc: 0.9962\n",
      "Epoch 89/100\n",
      "60000/60000 [==============================] - 1s 22us/step - loss: 0.0195 - acc: 0.9965\n",
      "Epoch 90/100\n",
      "60000/60000 [==============================] - 2s 27us/step - loss: 0.0192 - acc: 0.9964\n",
      "Epoch 91/100\n",
      "60000/60000 [==============================] - 2s 36us/step - loss: 0.0185 - acc: 0.9966\n",
      "Epoch 92/100\n",
      "60000/60000 [==============================] - 2s 30us/step - loss: 0.0181 - acc: 0.9966\n",
      "Epoch 93/100\n",
      "60000/60000 [==============================] - 2s 29us/step - loss: 0.0177 - acc: 0.9969\n",
      "Epoch 94/100\n",
      "60000/60000 [==============================] - 2s 32us/step - loss: 0.0170 - acc: 0.9971: 1s - lo\n",
      "Epoch 95/100\n",
      "60000/60000 [==============================] - 2s 30us/step - loss: 0.0167 - acc: 0.9970\n",
      "Epoch 96/100\n",
      "60000/60000 [==============================] - 2s 32us/step - loss: 0.0164 - acc: 0.9970\n",
      "Epoch 97/100\n",
      "60000/60000 [==============================] - 2s 32us/step - loss: 0.0158 - acc: 0.9972\n",
      "Epoch 98/100\n",
      "60000/60000 [==============================] - 2s 29us/step - loss: 0.0155 - acc: 0.9975\n",
      "Epoch 99/100\n",
      "60000/60000 [==============================] - 2s 33us/step - loss: 0.0150 - acc: 0.9976: 0s - loss: 0.0143 - a - ETA: 0s - loss: 0.0150 - acc: 0.\n",
      "Epoch 100/100\n",
      "60000/60000 [==============================] - 2s 29us/step - loss: 0.0146 - acc: 0.9977\n"
     ]
    },
    {
     "data": {
      "text/plain": [
       "<tensorflow.python.keras.callbacks.History at 0x18c88baf940>"
      ]
     },
     "execution_count": 117,
     "metadata": {},
     "output_type": "execute_result"
    }
   ],
   "source": [
    "MLP = keras.Sequential()\n",
    "MLP.add(Dense(50, activation='relu'))\n",
    "MLP.add(Dropout(0.7))\n",
    "MLP.add(Dense(30, activation='relu'))\n",
    "MLP.add(Dropout(0.7))\n",
    "MLP.add(Dense(10, activation='softmax'))\n",
    "\n",
    "MLP.compile(loss='sparse_categorical_crossentropy',optimizer=tf.keras.optimizers.Adam(0.0002),metrics=['accuracy'])\n",
    "MLP.fit(Xtrain_reshape,Ytrain,batch_size=200,epochs=100)"
   ]
  },
  {
   "cell_type": "code",
   "execution_count": 136,
   "metadata": {},
   "outputs": [
    {
     "name": "stdout",
     "output_type": "stream",
     "text": [
      "MLP\n",
      "Training Accuracy: 0.9974\n",
      "Test Accuracy: 0.9679\n"
     ]
    }
   ],
   "source": [
    "print(\"MLP\")\n",
    "print(\"Training Accuracy: \" + str(accuracy_score(MLP.predict_classes(Xtrain_reshape[:10000,:]),Ytrain[:10000])))\n",
    "print(\"Test Accuracy: \" + str(accuracy_score(MLP.predict_classes(Xtest_reshape),Ytest)))"
   ]
  },
  {
   "cell_type": "code",
   "execution_count": 118,
   "metadata": {
    "collapsed": true
   },
   "outputs": [
    {
     "name": "stdout",
     "output_type": "stream",
     "text": [
      "_________________________________________________________________\n",
      "Layer (type)                 Output Shape              Param #   \n",
      "=================================================================\n",
      "dense_53 (Dense)             multiple                  39250     \n",
      "_________________________________________________________________\n",
      "dropout_18 (Dropout)         multiple                  0         \n",
      "_________________________________________________________________\n",
      "dense_54 (Dense)             multiple                  1530      \n",
      "_________________________________________________________________\n",
      "dropout_19 (Dropout)         multiple                  0         \n",
      "_________________________________________________________________\n",
      "dense_55 (Dense)             multiple                  310       \n",
      "=================================================================\n",
      "Total params: 41,090\n",
      "Trainable params: 41,090\n",
      "Non-trainable params: 0\n",
      "_________________________________________________________________\n"
     ]
    }
   ],
   "source": [
    "MLP.summary()"
   ]
  },
  {
   "cell_type": "markdown",
   "metadata": {},
   "source": [
    "#### 4. Convolutional Neural Network Classifier"
   ]
  },
  {
   "cell_type": "code",
   "execution_count": 92,
   "metadata": {
    "scrolled": true
   },
   "outputs": [
    {
     "name": "stdout",
     "output_type": "stream",
     "text": [
      "Epoch 1/30\n",
      "60000/60000 [==============================] - 47s 786us/step - loss: 0.9403 - acc: 0.7211\n",
      "Epoch 2/30\n",
      "60000/60000 [==============================] - 25s 422us/step - loss: 0.2838 - acc: 0.9155\n",
      "Epoch 3/30\n",
      "60000/60000 [==============================] - 24s 392us/step - loss: 0.2044 - acc: 0.9389\n",
      "Epoch 4/30\n",
      "60000/60000 [==============================] - 25s 411us/step - loss: 0.1610 - acc: 0.9510\n",
      "Epoch 5/30\n",
      "60000/60000 [==============================] - 24s 395us/step - loss: 0.1349 - acc: 0.9590\n",
      "Epoch 6/30\n",
      "60000/60000 [==============================] - 25s 419us/step - loss: 0.1166 - acc: 0.9644\n",
      "Epoch 7/30\n",
      "60000/60000 [==============================] - 28s 468us/step - loss: 0.1041 - acc: 0.9681\n",
      "Epoch 8/30\n",
      "60000/60000 [==============================] - 26s 438us/step - loss: 0.0949 - acc: 0.9712\n",
      "Epoch 9/30\n",
      "60000/60000 [==============================] - 25s 413us/step - loss: 0.0877 - acc: 0.9734\n",
      "Epoch 10/30\n",
      "60000/60000 [==============================] - 27s 450us/step - loss: 0.0827 - acc: 0.9750\n",
      "Epoch 11/30\n",
      "60000/60000 [==============================] - 25s 423us/step - loss: 0.0773 - acc: 0.9769\n",
      "Epoch 12/30\n",
      "60000/60000 [==============================] - 26s 431us/step - loss: 0.0731 - acc: 0.9780\n",
      "Epoch 13/30\n",
      "60000/60000 [==============================] - 22s 365us/step - loss: 0.0702 - acc: 0.9787\n",
      "Epoch 14/30\n",
      "60000/60000 [==============================] - 22s 367us/step - loss: 0.0668 - acc: 0.9793\n",
      "Epoch 15/30\n",
      "60000/60000 [==============================] - 22s 369us/step - loss: 0.0635 - acc: 0.9806\n",
      "Epoch 16/30\n",
      "60000/60000 [==============================] - 22s 366us/step - loss: 0.0612 - acc: 0.9816\n",
      "Epoch 17/30\n",
      "60000/60000 [==============================] - 22s 367us/step - loss: 0.0592 - acc: 0.9822\n",
      "Epoch 18/30\n",
      "60000/60000 [==============================] - 23s 390us/step - loss: 0.0573 - acc: 0.9826\n",
      "Epoch 19/30\n",
      "60000/60000 [==============================] - 24s 406us/step - loss: 0.0554 - acc: 0.9833\n",
      "Epoch 20/30\n",
      "60000/60000 [==============================] - 22s 369us/step - loss: 0.0541 - acc: 0.9838\n",
      "Epoch 21/30\n",
      "60000/60000 [==============================] - 22s 365us/step - loss: 0.0524 - acc: 0.9846\n",
      "Epoch 22/30\n",
      "60000/60000 [==============================] - 22s 363us/step - loss: 0.0514 - acc: 0.9843\n",
      "Epoch 23/30\n",
      "60000/60000 [==============================] - 22s 364us/step - loss: 0.0494 - acc: 0.9849\n",
      "Epoch 24/30\n",
      "60000/60000 [==============================] - 22s 363us/step - loss: 0.0483 - acc: 0.9857\n",
      "Epoch 25/30\n",
      "60000/60000 [==============================] - 22s 370us/step - loss: 0.0469 - acc: 0.9863\n",
      "Epoch 26/30\n",
      "60000/60000 [==============================] - 22s 373us/step - loss: 0.0456 - acc: 0.9863\n",
      "Epoch 27/30\n",
      "60000/60000 [==============================] - 22s 366us/step - loss: 0.0453 - acc: 0.9862\n",
      "Epoch 28/30\n",
      "60000/60000 [==============================] - 22s 363us/step - loss: 0.0442 - acc: 0.9867\n",
      "Epoch 29/30\n",
      "60000/60000 [==============================] - 22s 364us/step - loss: 0.0427 - acc: 0.9872\n",
      "Epoch 30/30\n",
      "60000/60000 [==============================] - 22s 371us/step - loss: 0.0426 - acc: 0.9870\n"
     ]
    },
    {
     "data": {
      "text/plain": [
       "<tensorflow.python.keras.callbacks.History at 0x18c86c1b710>"
      ]
     },
     "execution_count": 92,
     "metadata": {},
     "output_type": "execute_result"
    }
   ],
   "source": [
    "from tensorflow.keras.layers import Conv2D, MaxPooling2D, Flatten\n",
    "CNN = keras.Sequential()\n",
    "CNN.add(Conv2D(12, (3, 3), activation='relu', input_shape=(Xtrain.shape[1], Xtrain.shape[2], 1)))\n",
    "CNN.add(MaxPooling2D((2, 2)))\n",
    "CNN.add(Conv2D(16, (4, 4), activation='relu'))\n",
    "CNN.add(MaxPooling2D((2, 2)))\n",
    "CNN.add(Conv2D(16, (3, 3), activation='relu'))\n",
    "CNN.add(Flatten())\n",
    "CNN.add(Dense(10, activation='softmax'))\n",
    "CNN.compile(loss='sparse_categorical_crossentropy',optimizer=tf.keras.optimizers.Adam(0.0002),metrics=['accuracy'])\n",
    "CNN.fit(Xtrain_reshape.reshape((Xtrain.shape[0], Xtrain.shape[1], Xtrain.shape[1], 1)),Ytrain,batch_size=100,epochs=30)"
   ]
  },
  {
   "cell_type": "code",
   "execution_count": 121,
   "metadata": {},
   "outputs": [
    {
     "name": "stdout",
     "output_type": "stream",
     "text": [
      "CNN\n",
      "Training Accuracy: 0.9878333333333333\n",
      "Test Accuracy: 0.9857\n"
     ]
    }
   ],
   "source": [
    "print(\"CNN\")\n",
    "print(\"Training Accuracy: \" + str(accuracy_score(CNN.predict_classes( Xtrain_reshape.reshape(Xtrain.shape[0], Xtrain.shape[1], Xtrain.shape[1], 1)  ),Ytrain)))\n",
    "print(\"Test Accuracy: \" + str(accuracy_score(CNN.predict_classes( Xtest_reshape.reshape(Xtest.shape[0], Xtest.shape[1], Xtest.shape[1], 1)  ),Ytest)))"
   ]
  },
  {
   "cell_type": "code",
   "execution_count": 98,
   "metadata": {
    "scrolled": true
   },
   "outputs": [
    {
     "name": "stdout",
     "output_type": "stream",
     "text": [
      "_________________________________________________________________\n",
      "Layer (type)                 Output Shape              Param #   \n",
      "=================================================================\n",
      "conv2d_9 (Conv2D)            (None, 26, 26, 12)        120       \n",
      "_________________________________________________________________\n",
      "max_pooling2d_7 (MaxPooling2 (None, 13, 13, 12)        0         \n",
      "_________________________________________________________________\n",
      "conv2d_10 (Conv2D)           (None, 10, 10, 16)        3088      \n",
      "_________________________________________________________________\n",
      "max_pooling2d_8 (MaxPooling2 (None, 5, 5, 16)          0         \n",
      "_________________________________________________________________\n",
      "conv2d_11 (Conv2D)           (None, 3, 3, 16)          2320      \n",
      "_________________________________________________________________\n",
      "flatten_5 (Flatten)          (None, 144)               0         \n",
      "_________________________________________________________________\n",
      "dense_40 (Dense)             (None, 10)                1450      \n",
      "=================================================================\n",
      "Total params: 6,978\n",
      "Trainable params: 6,978\n",
      "Non-trainable params: 0\n",
      "_________________________________________________________________\n"
     ]
    }
   ],
   "source": [
    "CNN.summary()"
   ]
  },
  {
   "cell_type": "code",
   "execution_count": 104,
   "metadata": {},
   "outputs": [],
   "source": [
    "CNN.save('CNN.h5')\n",
    "#CNN_load = tf.keras.models.load_model('CNN.h5')\n",
    "#print(\"Training Accuracy: \" + str(accuracy_score(CNN_load.predict_classes( Xtrain_reshape.reshape(Xtrain.shape[0], Xtrain.shape[1], Xtrain.shape[1], 1)  ),Ytrain)))\n",
    "#print(\"Test Accuracy: \" + str(accuracy_score(CNN_load.predict_classes( Xtest_reshape.reshape(Xtest.shape[0], Xtest.shape[1], Xtest.shape[1], 1)  ),Ytest)))"
   ]
  },
  {
   "cell_type": "markdown",
   "metadata": {},
   "source": [
    "### Machine Learning Concepts"
   ]
  },
  {
   "cell_type": "markdown",
   "metadata": {},
   "source": [
    "#### <font color=red> 5. Visualising some of the incorrect predictions </font>"
   ]
  },
  {
   "cell_type": "code",
   "execution_count": 141,
   "metadata": {},
   "outputs": [],
   "source": [
    "wrong_indices = np.where(np.not_equal(MLP.predict_classes(Xtest_reshape), Ytest))"
   ]
  },
  {
   "cell_type": "code",
   "execution_count": 142,
   "metadata": {},
   "outputs": [
    {
     "data": {
      "text/plain": [
       "array([2, 4, 0, 2, 9, 6, 4, 9, 2, 5, 6, 3, 8, 1, 3, 5, 7, 4, 5, 7, 0, 8,\n",
       "       5, 1, 6, 6, 5, 7, 6, 2, 4, 3, 7, 6, 6, 9, 7, 9, 4, 9, 8, 8, 7, 5,\n",
       "       9, 8, 7, 7, 7, 8, 3, 4, 9, 6, 2, 0, 5, 3, 9, 8, 0, 4, 7, 2, 6, 8,\n",
       "       9, 7, 5, 9, 5, 6, 2, 0, 5, 8, 7, 1, 0, 7, 7, 5, 5, 4, 4, 3, 6, 4,\n",
       "       6, 9, 2, 5, 8, 9, 0, 5, 9, 8, 9, 9, 6, 8, 6, 2, 4, 5, 9, 9, 7, 3,\n",
       "       9, 6, 8, 9, 7, 4, 5, 8, 7, 3, 3, 4, 9, 9, 8, 1, 4, 5, 6, 7, 0, 2,\n",
       "       9, 4, 6, 2, 9, 6, 4, 5, 8, 8, 7, 9, 2, 8, 5, 8, 7, 6, 4, 2, 2, 0,\n",
       "       7, 6, 9, 5, 5, 1, 4, 3, 7, 0, 8, 9, 7, 8, 2, 2, 7, 1, 9, 2, 5, 4,\n",
       "       2, 9, 9, 9, 8, 9, 3, 3, 8, 7, 2, 9, 6, 2, 6, 5, 4, 8, 2, 3, 8, 3,\n",
       "       4, 8, 9, 4, 0, 8, 2, 8, 7, 3, 8, 3, 2, 3, 6, 1, 1, 1, 8, 7, 4, 3,\n",
       "       8, 4, 7, 7, 4, 4, 4, 5, 3, 5, 3, 5, 3, 3, 7, 3, 8, 3, 9, 0, 9, 3,\n",
       "       8, 0, 6, 9, 9, 9, 1, 5, 2, 7, 7, 0, 3, 8, 9, 0, 8, 8, 9, 6, 2, 0,\n",
       "       3, 8, 4, 6, 5, 2, 2, 8, 8, 3, 5, 3, 3, 1, 8, 1, 5, 2, 2, 6, 2, 3,\n",
       "       3, 6, 0, 2, 8, 5, 8, 4, 8, 4, 2, 7, 7, 7, 8, 9, 0, 2, 6, 6, 5, 4,\n",
       "       8, 2, 5, 6, 4, 6, 3, 2, 2, 7, 3, 3, 5], dtype=uint8)"
      ]
     },
     "execution_count": 142,
     "metadata": {},
     "output_type": "execute_result"
    }
   ],
   "source": [
    "Ytest[wrong_indices]"
   ]
  },
  {
   "cell_type": "code",
   "execution_count": 143,
   "metadata": {},
   "outputs": [
    {
     "data": {
      "text/plain": [
       "array([3, 9, 9, 9, 8, 5, 2, 8, 7, 3, 0, 7, 2, 2, 9, 3, 3, 9, 8, 9, 2, 9,\n",
       "       4, 2, 0, 5, 8, 8, 8, 3, 6, 2, 8, 1, 5, 4, 2, 4, 9, 5, 3, 3, 9, 3,\n",
       "       7, 3, 9, 1, 9, 7, 5, 2, 8, 4, 3, 6, 9, 7, 3, 0, 7, 2, 2, 8, 4, 3,\n",
       "       8, 5, 7, 3, 8, 3, 0, 9, 8, 9, 2, 7, 5, 9, 9, 3, 4, 8, 9, 1, 0, 9,\n",
       "       1, 4, 3, 8, 0, 6, 2, 8, 1, 3, 8, 7, 4, 3, 8, 4, 9, 3, 4, 7, 1, 5,\n",
       "       5, 1, 5, 4, 1, 7, 3, 0, 3, 2, 2, 0, 7, 1, 5, 2, 6, 1, 5, 9, 9, 3,\n",
       "       1, 9, 0, 1, 1, 4, 9, 0, 5, 5, 8, 3, 8, 3, 3, 4, 2, 5, 6, 8, 3, 6,\n",
       "       1, 2, 4, 6, 3, 2, 2, 5, 1, 8, 5, 7, 9, 2, 3, 7, 9, 7, 7, 8, 6, 6,\n",
       "       8, 7, 7, 4, 4, 4, 2, 2, 7, 3, 7, 8, 5, 8, 2, 6, 9, 4, 4, 5, 7, 5,\n",
       "       6, 3, 6, 9, 8, 6, 8, 4, 1, 2, 5, 5, 7, 5, 4, 6, 8, 5, 4, 8, 3, 7,\n",
       "       2, 7, 4, 9, 0, 9, 9, 3, 9, 3, 8, 9, 9, 9, 3, 9, 3, 9, 3, 6, 0, 5,\n",
       "       9, 2, 2, 3, 4, 7, 3, 3, 6, 2, 2, 9, 5, 1, 5, 8, 5, 7, 4, 4, 7, 5,\n",
       "       7, 3, 8, 4, 8, 7, 7, 9, 9, 8, 8, 2, 2, 8, 1, 8, 8, 8, 8, 4, 4, 9,\n",
       "       5, 4, 6, 4, 5, 8, 0, 8, 6, 9, 8, 2, 2, 2, 5, 4, 3, 7, 3, 5, 6, 3,\n",
       "       5, 0, 0, 5, 9, 5, 5, 3, 3, 9, 5, 8, 6], dtype=int64)"
      ]
     },
     "execution_count": 143,
     "metadata": {},
     "output_type": "execute_result"
    }
   ],
   "source": [
    "MLP.predict_classes(Xtest_reshape)[wrong_indices]"
   ]
  },
  {
   "cell_type": "code",
   "execution_count": 156,
   "metadata": {},
   "outputs": [
    {
     "data": {
      "image/png": "[encoded data removed]",
      "text/plain": [
       "<Figure size 432x288 with 4 Axes>"
      ]
     },
     "metadata": {
      "needs_background": "light"
     },
     "output_type": "display_data"
    }
   ],
   "source": [
    "for i in range(4):\n",
    "    plt.subplot(221 + i)\n",
    "    plt.imshow(Xtest[wrong_indices[0][i]], cmap=plt.get_cmap('gray'))\n",
    "    plt.axis('off')\n",
    "    plt.title(\"Truth: \" + str(Ytest[wrong_indices[0][i]]) + \", Predicted: \" +str(MLP.predict_classes(Xtest_reshape)[wrong_indices[0][i]])  )\n",
    "plt.show()"
   ]
  },
  {
   "cell_type": "code",
   "execution_count": 158,
   "metadata": {},
   "outputs": [
    {
     "data": {
      "image/png": "[encoded data removed]",
      "text/plain": [
       "<Figure size 432x288 with 4 Axes>"
      ]
     },
     "metadata": {
      "needs_background": "light"
     },
     "output_type": "display_data"
    }
   ],
   "source": [
    "for i in range(4):\n",
    "    plt.subplot(221 + i)\n",
    "    plt.imshow(Xtest[wrong_indices[0][4+i]], cmap=plt.get_cmap('gray'))\n",
    "    plt.axis('off')\n",
    "    plt.title(\"Truth: \" + str(Ytest[wrong_indices[0][i+4]]) + \", Predicted: \" +str(MLP.predict_classes(Xtest_reshape)[wrong_indices[0][4+i]])  )\n",
    "plt.show()"
   ]
  },
  {
   "cell_type": "markdown",
   "metadata": {},
   "source": [
    "#### <font color=red> Neural network parameters: Optimisers, number of epoches, network parameters, optimisers, batch size, different types of layers, convolutional layers VS dense layers </font>"
   ]
  },
  {
   "cell_type": "markdown",
   "metadata": {},
   "source": [
    "#### <font color=red> Machine Learning concepts: Backpropagation, global vs local minima, explainability, hyperparameter optimization, activation functions, probability outputs </font>"
   ]
  },
  {
   "cell_type": "markdown",
   "metadata": {},
   "source": [
    "#### For further reference: Stanford CS231n Convolutional Neural Networks, 2 Blue 1 Brown Neural Networks, Tensorflow Documentation"
   ]
  }
 ],
 "metadata": {
  "kernelspec": {
   "display_name": "Python 3",
   "language": "python",
   "name": "python3"
  },
  "language_info": {
   "codemirror_mode": {
    "name": "ipython",
    "version": 3
   },
   "file_extension": ".py",
   "mimetype": "text/x-python",
   "name": "python",
   "nbconvert_exporter": "python",
   "pygments_lexer": "ipython3",
   "version": "3.6.4"
  }
 },
 "nbformat": 4,
 "nbformat_minor": 2
}
